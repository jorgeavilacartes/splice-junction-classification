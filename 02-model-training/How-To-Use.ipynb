{
 "cells": [
  {
   "cell_type": "code",
   "execution_count": 1,
   "id": "95f18e4c-21b7-4c3e-9403-860dbf24dec0",
   "metadata": {},
   "outputs": [
    {
     "name": "stderr",
     "output_type": "stream",
     "text": [
      "/home/jorge/.conda/envs/splice-junction/lib/python3.8/site-packages/gensim/similarities/__init__.py:15: UserWarning: The gensim.similarities.levenshtein submodule is disabled, because the optional Levenshtein package <https://pypi.org/project/python-Levenshtein/> is unavailable. Install Levenhstein (e.g. `pip install python-Levenshtein`) to suppress this warning.\n",
      "  warnings.warn(msg)\n"
     ]
    }
   ],
   "source": [
    "from src import (\n",
    "    DataGenerator,\n",
    "    ModelLoader,\n",
    "    DecoderOutput,\n",
    "    HotEncoder,\n",
    "    HotEncoderKmer,\n",
    "    Word2Vec,\n",
    ")"
   ]
  },
  {
   "cell_type": "code",
   "execution_count": null,
   "id": "68c7fc0c-ba6c-4e43-9a0a-d2404aa3865b",
   "metadata": {},
   "outputs": [],
   "source": []
  },
  {
   "cell_type": "code",
   "execution_count": null,
   "id": "2b7da51c-f38a-470a-9fe0-bb1b19e89846",
   "metadata": {},
   "outputs": [],
   "source": []
  },
  {
   "cell_type": "markdown",
   "id": "ca3ffb52-ff7b-488e-b4e3-87ca1579c926",
   "metadata": {},
   "source": [
    "# Encoders\n",
    "___\n",
    "\n",
    "## `HotEncoder`\n",
    "Emulates the approach in the thesis."
   ]
  },
  {
   "cell_type": "code",
   "execution_count": 2,
   "id": "0e937441-f56b-4cb8-b663-0e51e448393d",
   "metadata": {},
   "outputs": [
    {
     "data": {
      "text/plain": [
       "array([[1, 0, 0, 0],\n",
       "       [0, 1, 0, 0],\n",
       "       [0, 0, 1, 0],\n",
       "       [0, 0, 0, 1],\n",
       "       [1, 0, 0, 0]])"
      ]
     },
     "execution_count": 2,
     "metadata": {},
     "output_type": "execute_result"
    }
   ],
   "source": [
    "encoder = HotEncoder()\n",
    "encoder(\"ACGTA\")"
   ]
  },
  {
   "cell_type": "markdown",
   "id": "436c8e48-71b5-4aaa-86c0-1ba7974a086c",
   "metadata": {},
   "source": [
    "## `HotEncoderKmer`"
   ]
  },
  {
   "cell_type": "code",
   "execution_count": 3,
   "id": "427953f8-2e60-44f1-8a5a-76d408a22be0",
   "metadata": {},
   "outputs": [],
   "source": [
    "encoder_kmer = HotEncoderKmer(k = 3)"
   ]
  },
  {
   "cell_type": "code",
   "execution_count": 4,
   "id": "8d55992f-b0c0-4747-bd48-ab9621fee9ab",
   "metadata": {
    "tags": []
   },
   "outputs": [
    {
     "data": {
      "text/plain": [
       "64"
      ]
     },
     "execution_count": 4,
     "metadata": {},
     "output_type": "execute_result"
    }
   ],
   "source": [
    "# lenght of vector representationsprint(len(self.kmers))print(len(self.kmers))\n",
    "encoder_kmer.len_vector"
   ]
  },
  {
   "cell_type": "code",
   "execution_count": 5,
   "id": "4d6094fb-3383-4530-969f-58aa6a9be897",
   "metadata": {
    "tags": []
   },
   "outputs": [],
   "source": [
    "# pairs (k-mer, vector)\n",
    "# encoder_kmer.ENCODING"
   ]
  },
  {
   "cell_type": "code",
   "execution_count": 6,
   "id": "d2214092-888a-47de-a8d5-ae799fcab3c0",
   "metadata": {},
   "outputs": [
    {
     "data": {
      "text/plain": [
       "array([[0., 0., 0., 0., 0., 0., 1., 0., 0., 0., 0., 0., 0., 0., 0., 0.,\n",
       "        0., 0., 0., 0., 0., 0., 0., 0., 0., 0., 0., 0., 0., 0., 0., 0.,\n",
       "        0., 0., 0., 0., 0., 0., 0., 0., 0., 0., 0., 0., 0., 0., 0., 0.,\n",
       "        0., 0., 0., 0., 0., 0., 0., 0., 0., 0., 0., 0., 0., 0., 0., 0.],\n",
       "       [0., 0., 0., 0., 0., 0., 0., 0., 0., 0., 0., 0., 0., 0., 0., 0.,\n",
       "        0., 0., 0., 0., 0., 0., 0., 0., 0., 0., 0., 1., 0., 0., 0., 0.,\n",
       "        0., 0., 0., 0., 0., 0., 0., 0., 0., 0., 0., 0., 0., 0., 0., 0.,\n",
       "        0., 0., 0., 0., 0., 0., 0., 0., 0., 0., 0., 0., 0., 0., 0., 0.],\n",
       "       [0., 0., 0., 0., 0., 0., 0., 0., 0., 0., 0., 0., 0., 0., 0., 0.,\n",
       "        0., 0., 0., 0., 0., 0., 0., 0., 0., 0., 0., 0., 0., 0., 0., 0.,\n",
       "        0., 0., 0., 0., 0., 0., 0., 0., 0., 0., 0., 0., 1., 0., 0., 0.,\n",
       "        0., 0., 0., 0., 0., 0., 0., 0., 0., 0., 0., 0., 0., 0., 0., 0.],\n",
       "       [0., 0., 0., 0., 0., 0., 0., 0., 0., 0., 0., 0., 0., 0., 0., 0.,\n",
       "        0., 0., 0., 0., 0., 0., 0., 0., 0., 0., 0., 0., 0., 0., 0., 0.,\n",
       "        0., 0., 0., 0., 0., 0., 0., 0., 0., 0., 0., 0., 0., 0., 0., 0.,\n",
       "        1., 0., 0., 0., 0., 0., 0., 0., 0., 0., 0., 0., 0., 0., 0., 0.],\n",
       "       [1., 0., 0., 0., 0., 0., 0., 0., 0., 0., 0., 0., 0., 0., 0., 0.,\n",
       "        0., 0., 0., 0., 0., 0., 0., 0., 0., 0., 0., 0., 0., 0., 0., 0.,\n",
       "        0., 0., 0., 0., 0., 0., 0., 0., 0., 0., 0., 0., 0., 0., 0., 0.,\n",
       "        0., 0., 0., 0., 0., 0., 0., 0., 0., 0., 0., 0., 0., 0., 0., 0.]])"
      ]
     },
     "execution_count": 6,
     "metadata": {},
     "output_type": "execute_result"
    }
   ],
   "source": [
    "encoder_kmer(\"ACGTAAA\")"
   ]
  },
  {
   "cell_type": "markdown",
   "id": "262efff8-a821-4056-b054-ade97e177d17",
   "metadata": {},
   "source": [
    "## `Word2Vec`\n",
    "Models can be created with the `00-Embeddings.ipynb`. They will be loaded from "
   ]
  },
  {
   "cell_type": "code",
   "execution_count": 7,
   "id": "fbf301fb-84f4-40d8-b956-d84ad78d10c1",
   "metadata": {},
   "outputs": [],
   "source": [
    "word2vec = Word2Vec(k = 3, s = 1, path_model = \"hello\", size_emb = 20)"
   ]
  },
  {
   "cell_type": "code",
   "execution_count": 8,
   "id": "b0e19451-65dc-4571-831c-6006bc8fb6f3",
   "metadata": {},
   "outputs": [
    {
     "data": {
      "text/plain": [
       "array([[ 1.4976978 , -0.68559784, -2.4421809 ,  0.53911054,  0.9722924 ,\n",
       "         1.6412578 ,  3.073698  , -0.5317256 ,  1.5276389 , -5.028471  ,\n",
       "         1.6346197 , -3.2346687 , -2.520035  , -2.9924598 , -3.5033379 ,\n",
       "         0.17552377,  1.5142115 ,  1.326239  ,  2.740624  ,  3.2891474 ],\n",
       "       [ 4.122436  , -3.9496787 , -0.5482439 ,  2.79789   , -2.3865497 ,\n",
       "        -1.4453487 ,  0.5566054 ,  0.67797565,  3.2201457 ,  0.87150276,\n",
       "         4.540808  , -2.5799806 , -0.33486623, -2.5223668 , -1.5371512 ,\n",
       "         3.6592891 ,  2.765791  ,  0.10125367,  5.142627  , -1.0510743 ],\n",
       "       [ 0.10903008,  4.734831  , -0.8594927 , -1.5928282 ,  5.6970677 ,\n",
       "         2.0611916 ,  2.7875025 ,  1.1022971 , -1.3444535 , -0.7984804 ,\n",
       "         0.685548  , -0.37471905,  5.1854386 , -1.6955456 ,  3.0022159 ,\n",
       "        -0.03125342, -2.7566025 , -1.4588599 ,  1.8544493 , -0.02057688],\n",
       "       [ 2.3691862 , -0.66801524,  0.9104606 ,  2.8471937 , -0.19999772,\n",
       "         1.7526597 , -3.254125  ,  0.18987167, -1.7945782 ,  3.2753475 ,\n",
       "         1.5605626 ,  4.082523  , -2.0042074 , -2.0108438 ,  1.9014726 ,\n",
       "         0.51948065, -2.379473  , -3.7697291 , -1.9371116 ,  1.5850574 ],\n",
       "       [-0.8384197 ,  2.659337  ,  3.0497444 , -0.05969302, -0.9382293 ,\n",
       "        -2.0701616 , -0.6568026 , -1.8567064 ,  2.4510822 , -0.7030503 ,\n",
       "         0.4402613 ,  2.8344047 , -1.1704823 ,  3.324878  ,  0.40151292,\n",
       "        -2.1244678 , -3.9839637 ,  0.4593228 , -1.3386058 , -0.2117448 ]],\n",
       "      dtype=float32)"
      ]
     },
     "execution_count": 8,
     "metadata": {},
     "output_type": "execute_result"
    }
   ],
   "source": [
    "word2vec(\"AAACCTG\")"
   ]
  },
  {
   "cell_type": "code",
   "execution_count": null,
   "id": "ff7b32c3-d046-4eac-9f33-e7a7c8187241",
   "metadata": {},
   "outputs": [],
   "source": []
  },
  {
   "cell_type": "code",
   "execution_count": null,
   "id": "792bd350-8682-47f1-bbd0-5d5b28b4da41",
   "metadata": {},
   "outputs": [],
   "source": []
  },
  {
   "cell_type": "code",
   "execution_count": null,
   "id": "f5c892f3-0cbd-4d60-b6cf-b10d1bff4186",
   "metadata": {},
   "outputs": [],
   "source": []
  },
  {
   "cell_type": "markdown",
   "id": "78d9e3f9-2689-40dd-8487-0c05ad8ada27",
   "metadata": {},
   "source": [
    "# Data Generator\n",
    "___\n",
    "Create batches of inputs and labels to train the network"
   ]
  },
  {
   "cell_type": "code",
   "execution_count": 9,
   "id": "8b2d4aeb-34f7-4fef-991a-0e0ba6769ad6",
   "metadata": {},
   "outputs": [
    {
     "ename": "TypeError",
     "evalue": "__init__() missing 1 required positional argument: 'encoder_output'",
     "output_type": "error",
     "traceback": [
      "\u001b[0;31m---------------------------------------------------------------------------\u001b[0m",
      "\u001b[0;31mTypeError\u001b[0m                                 Traceback (most recent call last)",
      "\u001b[0;32m<ipython-input-9-37b5a7d9b39e>\u001b[0m in \u001b[0;36m<module>\u001b[0;34m\u001b[0m\n\u001b[0;32m----> 1\u001b[0;31m data_generator = DataGenerator(\n\u001b[0m\u001b[1;32m      2\u001b[0m     \u001b[0msequences\u001b[0m \u001b[0;34m=\u001b[0m \u001b[0;34m[\u001b[0m\u001b[0;34m\"AAA\"\u001b[0m\u001b[0;34m,\u001b[0m \u001b[0;34m\"CCA\"\u001b[0m\u001b[0;34m,\u001b[0m \u001b[0;34m\"GGT\"\u001b[0m\u001b[0;34m,\u001b[0m \u001b[0;34m\"AAC\"\u001b[0m\u001b[0;34m,\u001b[0m \u001b[0;34m\"AAC\"\u001b[0m\u001b[0;34m,\u001b[0m\u001b[0;34m\"AAA\"\u001b[0m\u001b[0;34m,\u001b[0m\u001b[0;34m\"CCT\"\u001b[0m\u001b[0;34m]\u001b[0m\u001b[0;34m,\u001b[0m\u001b[0;34m\u001b[0m\u001b[0;34m\u001b[0m\u001b[0m\n\u001b[1;32m      3\u001b[0m     \u001b[0mlabels\u001b[0m \u001b[0;34m=\u001b[0m \u001b[0;34m[\u001b[0m\u001b[0;36m1\u001b[0m\u001b[0;34m,\u001b[0m\u001b[0;36m1\u001b[0m\u001b[0;34m,\u001b[0m\u001b[0;36m0\u001b[0m\u001b[0;34m,\u001b[0m\u001b[0;36m0\u001b[0m\u001b[0;34m,\u001b[0m\u001b[0;36m0\u001b[0m\u001b[0;34m,\u001b[0m\u001b[0;36m1\u001b[0m\u001b[0;34m]\u001b[0m\u001b[0;34m,\u001b[0m\u001b[0;34m\u001b[0m\u001b[0;34m\u001b[0m\u001b[0m\n\u001b[1;32m      4\u001b[0m     \u001b[0mencoder_input\u001b[0m \u001b[0;34m=\u001b[0m \u001b[0mencoder\u001b[0m\u001b[0;34m,\u001b[0m  \u001b[0;31m# from dna-sequence to array\u001b[0m\u001b[0;34m\u001b[0m\u001b[0;34m\u001b[0m\u001b[0m\n\u001b[1;32m      5\u001b[0m     \u001b[0mbatch_size\u001b[0m \u001b[0;34m=\u001b[0m \u001b[0;36m2\u001b[0m\u001b[0;34m,\u001b[0m\u001b[0;34m\u001b[0m\u001b[0;34m\u001b[0m\u001b[0m\n",
      "\u001b[0;31mTypeError\u001b[0m: __init__() missing 1 required positional argument: 'encoder_output'"
     ]
    }
   ],
   "source": [
    "data_generator = DataGenerator(\n",
    "    sequences = [\"AAA\", \"CCA\", \"GGT\", \"AAC\", \"AAC\",\"AAA\",\"CCT\"],\n",
    "    labels = [1,1,0,0,0,1],\n",
    "    encoder_input = encoder,  # from dna-sequence to array\n",
    "    batch_size = 2,\n",
    ")"
   ]
  },
  {
   "cell_type": "code",
   "execution_count": null,
   "id": "45bf9ea1-2244-429f-86cd-bd48f5d64a27",
   "metadata": {},
   "outputs": [],
   "source": [
    "X,y = data_generator.__getitem__(2)"
   ]
  },
  {
   "cell_type": "code",
   "execution_count": null,
   "id": "685cadef-5638-4b18-88b2-253c54e0f971",
   "metadata": {},
   "outputs": [],
   "source": [
    "X.shape"
   ]
  },
  {
   "cell_type": "code",
   "execution_count": null,
   "id": "9f54819a-6d58-4965-8444-ffa89208ebe6",
   "metadata": {},
   "outputs": [],
   "source": [
    "y.shape"
   ]
  },
  {
   "cell_type": "code",
   "execution_count": null,
   "id": "6bf45f99-0a33-46c9-8928-93f73844652d",
   "metadata": {},
   "outputs": [],
   "source": [
    "y"
   ]
  },
  {
   "cell_type": "code",
   "execution_count": null,
   "id": "e44e7fbc-b4cb-444e-a526-0e8637d5e961",
   "metadata": {},
   "outputs": [],
   "source": [
    "X"
   ]
  },
  {
   "cell_type": "code",
   "execution_count": null,
   "id": "91860599-d116-4184-b8cd-21412fd76224",
   "metadata": {},
   "outputs": [],
   "source": []
  },
  {
   "cell_type": "code",
   "execution_count": null,
   "id": "7b53baae-5d2e-482a-822b-d161605324ec",
   "metadata": {},
   "outputs": [],
   "source": []
  },
  {
   "cell_type": "code",
   "execution_count": null,
   "id": "727558a9-8787-4e1d-905d-ed89defb8b28",
   "metadata": {},
   "outputs": [],
   "source": []
  }
 ],
 "metadata": {
  "kernelspec": {
   "display_name": "Python 3",
   "language": "python",
   "name": "python3"
  },
  "language_info": {
   "codemirror_mode": {
    "name": "ipython",
    "version": 3
   },
   "file_extension": ".py",
   "mimetype": "text/x-python",
   "name": "python",
   "nbconvert_exporter": "python",
   "pygments_lexer": "ipython3",
   "version": "3.8.10"
  }
 },
 "nbformat": 4,
 "nbformat_minor": 5
}