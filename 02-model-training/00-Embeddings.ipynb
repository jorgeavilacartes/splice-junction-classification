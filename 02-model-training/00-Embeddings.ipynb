{
 "cells": [
  {
   "cell_type": "markdown",
   "id": "8eca9b86-4ed2-4338-9392-7da4a573e3fb",
   "metadata": {},
   "source": [
    "# Word2vec\n",
    "___"
   ]
  },
  {
   "cell_type": "code",
   "execution_count": 1,
   "id": "5bee704d-e6d2-44e4-b502-3b22ed2562a4",
   "metadata": {},
   "outputs": [],
   "source": [
    "from pathlib import Path\n",
    "import numpy as np\n",
    "import pandas as pd"
   ]
  },
  {
   "cell_type": "code",
   "execution_count": 2,
   "id": "f23992b5-741a-44f4-b8f4-01bbfb6bc6a1",
   "metadata": {},
   "outputs": [],
   "source": [
    "# basepath, to access 01-... and 02-... folders\n",
    "BASEPATH = Path().cwd().resolve().parent"
   ]
  },
  {
   "cell_type": "code",
   "execution_count": 3,
   "id": "cd20a40e-f8a1-4d58-bc61-c12f00fab9b1",
   "metadata": {},
   "outputs": [],
   "source": [
    "# Load sequences data\n",
    "PATH_DATA = Path('/home/jorge/AlgoLab/Tezi-Marzi/Tezi-Documentation/Master Thesis-20210607T163207Z-001/Master Thesis/Archive')\n",
    "data = pd.read_csv(PATH_DATA.joinpath('Sequences_chr1_unique.csv'))\n",
    "sequences_by_id = {ID: seq for ID, seq in zip(data.index, data.Sequences)}"
   ]
  },
  {
   "cell_type": "code",
   "execution_count": 4,
   "id": "73bbef7a-9226-4ea0-b3f1-91ca0f49a061",
   "metadata": {},
   "outputs": [
    {
     "data": {
      "text/html": [
       "<div>\n",
       "<style scoped>\n",
       "    .dataframe tbody tr th:only-of-type {\n",
       "        vertical-align: middle;\n",
       "    }\n",
       "\n",
       "    .dataframe tbody tr th {\n",
       "        vertical-align: top;\n",
       "    }\n",
       "\n",
       "    .dataframe thead th {\n",
       "        text-align: right;\n",
       "    }\n",
       "</style>\n",
       "<table border=\"1\" class=\"dataframe\">\n",
       "  <thead>\n",
       "    <tr style=\"text-align: right;\">\n",
       "      <th></th>\n",
       "      <th>Sequences</th>\n",
       "      <th>Splice_Junctions</th>\n",
       "    </tr>\n",
       "  </thead>\n",
       "  <tbody>\n",
       "    <tr>\n",
       "      <th>0</th>\n",
       "      <td>TCTGTCCTGTAAACCAGGACCCAGGTTATGCCTCTGCGAGCAGAGC...</td>\n",
       "      <td>1</td>\n",
       "    </tr>\n",
       "    <tr>\n",
       "      <th>1</th>\n",
       "      <td>TTTTTCTTCCTTCACTCTGAAGCCTGTTTACTTTGTTCTTCTGGCC...</td>\n",
       "      <td>1</td>\n",
       "    </tr>\n",
       "    <tr>\n",
       "      <th>2</th>\n",
       "      <td>TCCCGCCAAATCCGAAGCCTTGCTTCCTCCGGGAAAAGAGTCTTTT...</td>\n",
       "      <td>1</td>\n",
       "    </tr>\n",
       "    <tr>\n",
       "      <th>3</th>\n",
       "      <td>ATAATGATATTACTTGTACATAGAGTATAACTCCAGATTCCTTGGT...</td>\n",
       "      <td>1</td>\n",
       "    </tr>\n",
       "    <tr>\n",
       "      <th>4</th>\n",
       "      <td>TTTTTTTCCCTAATCCATCAAAGACTCCATAGCATAGTCGTTAATA...</td>\n",
       "      <td>0</td>\n",
       "    </tr>\n",
       "  </tbody>\n",
       "</table>\n",
       "</div>"
      ],
      "text/plain": [
       "                                           Sequences  Splice_Junctions\n",
       "0  TCTGTCCTGTAAACCAGGACCCAGGTTATGCCTCTGCGAGCAGAGC...                 1\n",
       "1  TTTTTCTTCCTTCACTCTGAAGCCTGTTTACTTTGTTCTTCTGGCC...                 1\n",
       "2  TCCCGCCAAATCCGAAGCCTTGCTTCCTCCGGGAAAAGAGTCTTTT...                 1\n",
       "3  ATAATGATATTACTTGTACATAGAGTATAACTCCAGATTCCTTGGT...                 1\n",
       "4  TTTTTTTCCCTAATCCATCAAAGACTCCATAGCATAGTCGTTAATA...                 0"
      ]
     },
     "execution_count": 4,
     "metadata": {},
     "output_type": "execute_result"
    }
   ],
   "source": [
    "data.head()"
   ]
  },
  {
   "cell_type": "code",
   "execution_count": 5,
   "id": "dcf3a257-5cda-4906-bcdc-f153211cba51",
   "metadata": {},
   "outputs": [
    {
     "name": "stderr",
     "output_type": "stream",
     "text": [
      "/home/jorge/.conda/envs/splice-junction/lib/python3.8/site-packages/gensim/similarities/__init__.py:15: UserWarning: The gensim.similarities.levenshtein submodule is disabled, because the optional Levenshtein package <https://pypi.org/project/python-Levenshtein/> is unavailable. Install Levenhstein (e.g. `pip install python-Levenshtein`) to suppress this warning.\n",
      "  warnings.warn(msg)\n"
     ]
    }
   ],
   "source": [
    "from gensim.test.utils import common_texts"
   ]
  },
  {
   "cell_type": "code",
   "execution_count": 6,
   "id": "6ba6515d-7069-4fec-8101-917ab47a1a8f",
   "metadata": {},
   "outputs": [],
   "source": [
    "#sequence = \"ACGTTGG\"\n",
    "L = 60\n",
    "k = 6\n",
    "s = 1 # (since j starts from 0, stride)\n",
    "\n",
    "# https://www.nature.com/articles/s41598-018-33321-1 | eq (1) below fig 4\n",
    "N_kmer = np.ceil((L-k)/s) + 1\n",
    "seq2kmers = lambda sequence: [ sequence[j:j+k] for j in range(0, L, s) if j < N_kmer ]"
   ]
  },
  {
   "cell_type": "code",
   "execution_count": 7,
   "id": "96d22baa-d574-428c-b4fb-7a489131533d",
   "metadata": {},
   "outputs": [],
   "source": [
    "# Sequences as lists of kmers to train word2vec\n",
    "seq_as_kmers = data.Sequences.apply(seq2kmers)"
   ]
  },
  {
   "cell_type": "markdown",
   "id": "44a49d75-8a90-4134-bf9d-e7cc434dcffb",
   "metadata": {},
   "source": [
    "### Train word2vec"
   ]
  },
  {
   "cell_type": "code",
   "execution_count": 8,
   "id": "a3b10372-c97e-4c9f-bd5c-5c989945a82c",
   "metadata": {},
   "outputs": [],
   "source": [
    "from gensim.models import Word2Vec\n",
    "dim       = 20\n",
    "window    = 10\n",
    "min_count = 1 \n",
    "\n",
    "model     = Word2Vec(sentences=seq_as_kmers, vector_size=dim, window=window, min_count=min_count, workers=4)"
   ]
  },
  {
   "cell_type": "code",
   "execution_count": 11,
   "id": "26e3da1c-796f-48c2-8638-075f2c5041ed",
   "metadata": {},
   "outputs": [],
   "source": [
    "# Save model\n",
    "word_vectors = model.wv\n",
    "word_vectors.save(f\"embeddings/word2vec/{k}-mer_{dim}-emb.wordvectors\")"
   ]
  },
  {
   "cell_type": "code",
   "execution_count": 9,
   "id": "8a9a166d-acf2-462d-88c0-5133e8b75856",
   "metadata": {},
   "outputs": [],
   "source": [
    "# Get embedding for a k-mer\n",
    "# model.wv[\"AAGT\"]"
   ]
  },
  {
   "cell_type": "code",
   "execution_count": 10,
   "id": "39b16416-4c6c-49f2-8aed-8b804fdc8ede",
   "metadata": {},
   "outputs": [],
   "source": [
    "# Find most similar k-mer based on embedding\n",
    "# model.wv.most_similar(\"GCC\")"
   ]
  },
  {
   "cell_type": "code",
   "execution_count": 12,
   "id": "226a3f89-289c-488b-8704-304b62f12eb9",
   "metadata": {},
   "outputs": [],
   "source": [
    "from gensim.models import KeyedVectors"
   ]
  },
  {
   "cell_type": "code",
   "execution_count": 13,
   "id": "ddb4b05b-6187-4eae-8bca-6489101d9fb1",
   "metadata": {},
   "outputs": [],
   "source": [
    "wv = KeyedVectors.load(f\"embeddings/word2vec/{k}-mer_{dim}-emb.wordvectors\", mmap='r')"
   ]
  },
  {
   "cell_type": "code",
   "execution_count": 14,
   "id": "3591e800-906b-4b0a-89b2-0db2246032ee",
   "metadata": {},
   "outputs": [
    {
     "data": {
      "text/plain": [
       "array([  7.372363  ,   1.255034  ,   3.0460577 ,  -0.32891965,\n",
       "         4.110647  ,  -5.7864475 ,   3.233467  ,  -0.9224984 ,\n",
       "         3.0546496 , -10.5233    ,  -1.1514121 , -10.732493  ,\n",
       "         3.1258113 ,   3.5156765 ,  -2.777804  ,   1.2995012 ,\n",
       "        -4.867206  ,  -3.5837922 ,   2.0511017 ,   1.6243751 ],\n",
       "      dtype=float32)"
      ]
     },
     "execution_count": 14,
     "metadata": {},
     "output_type": "execute_result"
    }
   ],
   "source": [
    "wv[\"AAGTGG\"]"
   ]
  },
  {
   "cell_type": "code",
   "execution_count": null,
   "id": "50aaa869-fbca-4b8f-8f86-072f89257d58",
   "metadata": {},
   "outputs": [],
   "source": []
  }
 ],
 "metadata": {
  "kernelspec": {
   "display_name": "Python 3",
   "language": "python",
   "name": "python3"
  },
  "language_info": {
   "codemirror_mode": {
    "name": "ipython",
    "version": 3
   },
   "file_extension": ".py",
   "mimetype": "text/x-python",
   "name": "python",
   "nbconvert_exporter": "python",
   "pygments_lexer": "ipython3",
   "version": "3.8.10"
  }
 },
 "nbformat": 4,
 "nbformat_minor": 5
}
