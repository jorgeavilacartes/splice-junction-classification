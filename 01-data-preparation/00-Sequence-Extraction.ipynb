{
 "cells": [
  {
   "cell_type": "markdown",
   "id": "fd34b80c-1a93-4ba7-b6d2-f8079c293bb7",
   "metadata": {},
   "source": [
    "# Sequence Extraction\n",
    "\n",
    "From `annotations.db` we extract exon information\n",
    "- acceptor position\n",
    "- donor position\n",
    "- chromosome, transcript associated\n",
    "\n",
    "From the `fasta` file we obtain sequences by chromosome"
   ]
  },
  {
   "cell_type": "code",
   "execution_count": 2,
   "id": "b39a3de1-48e3-4e10-b278-7c5c1f01904a",
   "metadata": {},
   "outputs": [],
   "source": [
    "import os\n",
    "import pandas as pd\n",
    "\n",
    "from collections import (\n",
    "    defaultdict,\n",
    "    namedtuple\n",
    ")\n",
    "\n",
    "from src import SequencerSpliceJunction"
   ]
  },
  {
   "cell_type": "code",
   "execution_count": 3,
   "id": "76f884ad-1331-4295-9dbd-89ffa43518ca",
   "metadata": {},
   "outputs": [],
   "source": [
    "path_db = \"data/annotation-004.db\"\n",
    "path_fa = \"data/Homo_sapiens-005.fa\""
   ]
  },
  {
   "cell_type": "code",
   "execution_count": null,
   "id": "6e32a239-955e-45e7-a711-00807b3fb09b",
   "metadata": {},
   "outputs": [
    {
     "name": "stdout",
     "output_type": "stream",
     "text": [
      "2\n",
      "loading annotations\n",
      "get genes id\n"
     ]
    },
    {
     "name": "stderr",
     "output_type": "stream",
     "text": [
      "100%|██████████| 60675/60675 [00:33<00:00, 1787.08it/s]\n",
      "  0%|          | 2/60675 [00:00<1:08:32, 14.75it/s]"
     ]
    },
    {
     "name": "stdout",
     "output_type": "stream",
     "text": [
      "get exon info\n"
     ]
    },
    {
     "name": "stderr",
     "output_type": "stream",
     "text": [
      "100%|██████████| 60675/60675 [03:14<00:00, 312.55it/s] \n",
      "0it [00:00, ?it/s]"
     ]
    },
    {
     "name": "stdout",
     "output_type": "stream",
     "text": [
      "collecting sequence by chromosome\n"
     ]
    },
    {
     "name": "stderr",
     "output_type": "stream",
     "text": [
      "194it [00:48,  3.96it/s]\n"
     ]
    },
    {
     "name": "stdout",
     "output_type": "stream",
     "text": [
      "Generating positive samples\n"
     ]
    },
    {
     "name": "stderr",
     "output_type": "stream",
     "text": [
      "100%|██████████| 16951/16951 [1:11:57<00:00,  3.93it/s]  \n",
      "  0%|          | 0/16951 [00:00<?, ?it/s]"
     ]
    },
    {
     "name": "stdout",
     "output_type": "stream",
     "text": [
      "Generating negative samples\n"
     ]
    },
    {
     "name": "stderr",
     "output_type": "stream",
     "text": [
      "100%|██████████| 16951/16951 [1:09:16<00:00,  4.08it/s]\n",
      "  0%|          | 10/60675 [00:00<10:06, 99.99it/s]"
     ]
    },
    {
     "name": "stdout",
     "output_type": "stream",
     "text": [
      "4\n",
      "loading annotations\n",
      "get genes id\n"
     ]
    },
    {
     "name": "stderr",
     "output_type": "stream",
     "text": [
      "100%|██████████| 60675/60675 [00:30<00:00, 2020.39it/s] \n",
      "  0%|          | 2/60675 [00:00<1:01:45, 16.38it/s]"
     ]
    },
    {
     "name": "stdout",
     "output_type": "stream",
     "text": [
      "get exon info\n"
     ]
    },
    {
     "name": "stderr",
     "output_type": "stream",
     "text": [
      "100%|██████████| 60675/60675 [03:05<00:00, 326.96it/s] \n",
      "0it [00:00, ?it/s]"
     ]
    },
    {
     "name": "stdout",
     "output_type": "stream",
     "text": [
      "collecting sequence by chromosome\n"
     ]
    },
    {
     "name": "stderr",
     "output_type": "stream",
     "text": [
      "16it [01:30,  6.49s/it]"
     ]
    }
   ],
   "source": [
    "train_chromosome = ['2','4','6','8','10','11','12','13','14','15','16','17','18','19','20','21','22','X','Y']\n",
    "test_chromosome = ['1','3','5','7','9']\n",
    "chromosomes = train_chromosome + test_chromosome\n",
    "for chromosome in chromosomes: \n",
    "    print(chromosome)\n",
    "    # initialize sequencer and load seq data\n",
    "    ds = SequencerSpliceJunction(\n",
    "        path_annotations = path_db, \n",
    "        path_fasta = path_fa, \n",
    "        chromosomes = chromosomes,\n",
    "        len_samples = 60,\n",
    "        k  = 10, # samples per exon (negative) / splice-junction (positive)\n",
    "    )\n",
    "\n",
    "    # Save exoninfo for the chromosome\n",
    "    if not os.path.exists(\"data/exoninfo_chr_{}.csv\".format(chromosome)):\n",
    "        df_exon = pd.DataFrame(ds.exon_info).to_csv(\"data/exoninfo_chr_{}.csv\".format(chromosome))\n",
    "    \n",
    "    if not os.path.exists(\"data/positive_samples_chr_{}.csv\".format(chromosome)):\n",
    "        ds.generate_positive_samples_fast(chromosome=chromosome,)\n",
    "        \n",
    "    if not os.path.exists(\"data/negative_samples_chr_{}.csv\".format(chromosome)):\n",
    "        ds.generate_negative_samples(chromosome=chromosome, allow_empty=True, save=True)\n"
   ]
  },
  {
   "cell_type": "markdown",
   "id": "28f58374-9a6d-4fac-a478-5692ae7130a6",
   "metadata": {},
   "source": [
    "___"
   ]
  },
  {
   "cell_type": "code",
   "execution_count": null,
   "id": "88a46d70-8705-4202-a02d-9db280dab3bc",
   "metadata": {
    "tags": []
   },
   "outputs": [],
   "source": [
    "# train_chromosome = ['2','4','6','8','10','11','12','13','14','15','16','17','18','19','20','21','22','X','Y']\n",
    "# test_chromosome = ['1','3','5','7','9']\n",
    "# chromosomes = train_chromosome + test_chromosome\n",
    "chromosomes = [\"X\"]\n",
    "chromosomes.sort(reverse=True)\n",
    "\n",
    "ds = SequencerSpliceJunction(\n",
    "    path_annotations = path_db, \n",
    "    path_fasta = path_fa, \n",
    "    chromosomes = chromosomes,\n",
    "    len_samples = 60,\n",
    "    k  = 10, # samples per exon (negative) / splice-junction (positive)\n",
    ")"
   ]
  },
  {
   "cell_type": "markdown",
   "id": "c6edc698-4eb1-4c72-a3ba-de588aacbb34",
   "metadata": {
    "tags": []
   },
   "source": [
    "## Exon Info: for selected chromosomes"
   ]
  },
  {
   "cell_type": "code",
   "execution_count": null,
   "id": "fa9fef36-71f3-4bac-b546-9d865042a2d0",
   "metadata": {
    "tags": []
   },
   "outputs": [],
   "source": [
    "df_exon = pd.DataFrame(ds.exon_info)\n",
    "df_exon.head()"
   ]
  },
  {
   "cell_type": "code",
   "execution_count": null,
   "id": "806ec7c5-fc5d-42e6-a487-544c5f8da78f",
   "metadata": {
    "tags": []
   },
   "outputs": [],
   "source": [
    "df_exon.shape"
   ]
  },
  {
   "cell_type": "code",
   "execution_count": null,
   "id": "7c246124-e9b5-49ee-a086-896de40b6b84",
   "metadata": {
    "tags": []
   },
   "outputs": [],
   "source": [
    "import matplotlib.pyplot as plt"
   ]
  },
  {
   "cell_type": "code",
   "execution_count": null,
   "id": "89affdec-2f44-4e4b-8fc9-2d4a39ee4146",
   "metadata": {
    "tags": []
   },
   "outputs": [],
   "source": [
    "df_exon[\"transcript_id\"].value_counts().plot.hist(bins=50, title=\"Histogram: transcripts per number of exons\")\n",
    "plt.show()"
   ]
  },
  {
   "cell_type": "code",
   "execution_count": null,
   "id": "96cbe6ca-fbc4-4de8-8b6b-f29fe12161fc",
   "metadata": {
    "tags": []
   },
   "outputs": [],
   "source": [
    "df_exon.head()"
   ]
  },
  {
   "cell_type": "markdown",
   "id": "fc5dd055-0ea0-453a-858c-61401b48b550",
   "metadata": {
    "tags": []
   },
   "source": [
    "## Length of exons\n",
    "- Most of the exons (75%) has length lower than 200. \n",
    "- Negative samples depends on the length of the exons. \n",
    "- Positive samples depends on the length of two exons. "
   ]
  },
  {
   "cell_type": "code",
   "execution_count": null,
   "id": "d34da9eb-c890-4c2f-aa76-ea0f8cdb8457",
   "metadata": {
    "tags": []
   },
   "outputs": [],
   "source": [
    "df_exon[\"len_exon\"] = df_exon.apply(lambda r: r[\"donor_idx\"]-r[\"acceptor_idx\"], axis=1)"
   ]
  },
  {
   "cell_type": "code",
   "execution_count": null,
   "id": "8b2f7e80-4e24-4287-91b2-d16ce2c53106",
   "metadata": {
    "tags": []
   },
   "outputs": [],
   "source": [
    "df_exon[\"len_exon\"].describe()"
   ]
  },
  {
   "cell_type": "code",
   "execution_count": null,
   "id": "af1fee61-1b64-4396-803e-a52d478fd874",
   "metadata": {
    "tags": []
   },
   "outputs": [],
   "source": [
    "df_exon.len_exon[df_exon.len_exon<1200].plot.hist(bins=100, title=\"Lenght of exons\")"
   ]
  },
  {
   "cell_type": "code",
   "execution_count": null,
   "id": "e45cf82e-72b1-429c-bbd8-f708d3b7ff03",
   "metadata": {
    "tags": []
   },
   "outputs": [],
   "source": [
    "df_exon.head()"
   ]
  },
  {
   "cell_type": "markdown",
   "id": "8d0b1fd7-e45d-48d4-b7d8-bd7510ad3e87",
   "metadata": {},
   "source": [
    "## Save exoninfo"
   ]
  },
  {
   "cell_type": "code",
   "execution_count": null,
   "id": "34991bb7-c365-4808-a406-7500b72f849a",
   "metadata": {},
   "outputs": [],
   "source": [
    "df_exon.to_csv(\"data/exoninfo.csv\")"
   ]
  },
  {
   "cell_type": "markdown",
   "id": "f57a46c8-de02-4d35-a0e5-6f857666b093",
   "metadata": {
    "tags": []
   },
   "source": [
    "___ "
   ]
  },
  {
   "cell_type": "markdown",
   "id": "92a22786-918f-471c-8d90-407ffd3af5fb",
   "metadata": {},
   "source": [
    "# Sampling of sequences\n",
    "For each transcript in `.exon_info`:\n",
    "1. If it contains 2 or more exons, go to step 2.\n",
    "2. For each exon $e$ in the transcript sample negative cases (I discarded the transcripts with one exon)\n",
    "3. For each consecutive pair of exons $e_i, e_{i+1}$ sample positive cases"
   ]
  },
  {
   "cell_type": "markdown",
   "id": "3451a931-0b2c-488c-8ff6-597a2dc16fd7",
   "metadata": {},
   "source": [
    "### Positive Samples"
   ]
  },
  {
   "cell_type": "code",
   "execution_count": null,
   "id": "1202bf42-fe9b-4435-9031-dfcf1513fbc2",
   "metadata": {},
   "outputs": [],
   "source": [
    "for chromosome in chromosomes: \n",
    "    print(chromosome)\n",
    "    ds.generate_positive_samples_fast(chromosome=chromosome,)"
   ]
  },
  {
   "cell_type": "code",
   "execution_count": null,
   "id": "f88be382-a585-4c83-a49a-5b0bdf6957f2",
   "metadata": {},
   "outputs": [],
   "source": [
    "len(ds.pos_samples)"
   ]
  },
  {
   "cell_type": "code",
   "execution_count": null,
   "id": "f0c51c29-f586-46be-a9b7-eadc75b967d0",
   "metadata": {},
   "outputs": [],
   "source": [
    "# for chromosome in chromosomes: \n",
    "#     print(chromosome)\n",
    "#     ds.generate_positive_samples(chromosome=chromosome, save=True)"
   ]
  },
  {
   "cell_type": "code",
   "execution_count": null,
   "id": "666e12d8-bba8-4614-99c5-fa6952d358ec",
   "metadata": {},
   "outputs": [],
   "source": [
    "len(ds.pos_samples), ds.counter_pos"
   ]
  },
  {
   "cell_type": "markdown",
   "id": "8a6c7c7c-42d7-4457-bb64-6f3fba3c7c79",
   "metadata": {},
   "source": [
    "### take a look to positive samples"
   ]
  },
  {
   "cell_type": "code",
   "execution_count": null,
   "id": "29742716-762a-4364-b4ac-bf13a4f4fffe",
   "metadata": {},
   "outputs": [],
   "source": [
    "sample = ds.pos_samples[1]\n",
    "sample"
   ]
  },
  {
   "cell_type": "code",
   "execution_count": null,
   "id": "a7ada08f-bb83-4162-8b52-fd75f6a676ef",
   "metadata": {},
   "outputs": [],
   "source": [
    "list(filter(lambda info: info.id_exoninfo in [sample.id_exoninfo_acceptor, sample.id_exoninfo_donor] , ds.exon_info))"
   ]
  },
  {
   "cell_type": "code",
   "execution_count": null,
   "id": "e391f04d-6426-46f5-9057-f5d2444dd08b",
   "metadata": {},
   "outputs": [],
   "source": []
  },
  {
   "cell_type": "markdown",
   "id": "3da350f3-9197-4c86-ac1d-75c046cdbaf6",
   "metadata": {},
   "source": [
    "### Negative Samples"
   ]
  },
  {
   "cell_type": "code",
   "execution_count": null,
   "id": "85705809-64ae-4734-a674-4e39805483e3",
   "metadata": {},
   "outputs": [],
   "source": [
    "for chromosome in chromosomes:\n",
    "    print(chromosome)\n",
    "    ds.generate_negative_samples(chromosome=chromosome, allow_empty=True, save=False)"
   ]
  },
  {
   "cell_type": "code",
   "execution_count": null,
   "id": "0d88c910-e41b-49ee-b219-d415ded21369",
   "metadata": {},
   "outputs": [],
   "source": [
    "len(ds.neg_samples)"
   ]
  },
  {
   "cell_type": "markdown",
   "id": "0041c74e-1208-4130-a43e-948549d6c849",
   "metadata": {},
   "source": [
    "### take a look to negative samples"
   ]
  },
  {
   "cell_type": "code",
   "execution_count": null,
   "id": "73e3b75c-a8e4-4c65-98e2-7165dfc69326",
   "metadata": {},
   "outputs": [],
   "source": [
    "sample = ds.neg_samples[20]\n",
    "sample"
   ]
  },
  {
   "cell_type": "code",
   "execution_count": null,
   "id": "38ec3c23-5022-4bf7-bde7-e0b63e29d48f",
   "metadata": {},
   "outputs": [],
   "source": [
    "list(filter(lambda info: info.id_exoninfo == sample.id_exoninfo , ds.exon_info))"
   ]
  }
 ],
 "metadata": {
  "kernelspec": {
   "display_name": "Python 3",
   "language": "python",
   "name": "python3"
  },
  "language_info": {
   "codemirror_mode": {
    "name": "ipython",
    "version": 3
   },
   "file_extension": ".py",
   "mimetype": "text/x-python",
   "name": "python",
   "nbconvert_exporter": "python",
   "pygments_lexer": "ipython3",
   "version": "3.8.10"
  }
 },
 "nbformat": 4,
 "nbformat_minor": 5
}
