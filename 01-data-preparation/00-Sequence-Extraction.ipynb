{
 "cells": [
  {
   "cell_type": "markdown",
   "id": "fd34b80c-1a93-4ba7-b6d2-f8079c293bb7",
   "metadata": {},
   "source": [
    "# Sequence Extraction\n",
    "\n",
    "From `annotations.db` we extract exon information\n",
    "- acceptor position\n",
    "- donor position\n",
    "- chromosome, transcript associated\n",
    "\n",
    "From the `fasta` file we obtain sequences by chromosome"
   ]
  },
  {
   "cell_type": "code",
   "execution_count": 1,
   "id": "b39a3de1-48e3-4e10-b278-7c5c1f01904a",
   "metadata": {},
   "outputs": [],
   "source": [
    "import pandas as pd\n",
    "\n",
    "from collections import (\n",
    "    defaultdict,\n",
    "    namedtuple\n",
    ")\n",
    "\n",
    "from src import SequencerSpliceJunction"
   ]
  },
  {
   "cell_type": "code",
   "execution_count": 2,
   "id": "76f884ad-1331-4295-9dbd-89ffa43518ca",
   "metadata": {},
   "outputs": [],
   "source": [
    "path_db = \"data/annotation-004.db\"\n",
    "path_fa = \"data/Homo_sapiens-005.fa\""
   ]
  },
  {
   "cell_type": "code",
   "execution_count": 3,
   "id": "88a46d70-8705-4202-a02d-9db280dab3bc",
   "metadata": {
    "tags": []
   },
   "outputs": [
    {
     "name": "stderr",
     "output_type": "stream",
     "text": [
      "  2%|▏         | 933/60675 [00:00<00:06, 9325.34it/s]"
     ]
    },
    {
     "name": "stdout",
     "output_type": "stream",
     "text": [
      "loading annotations\n",
      "get genes id\n"
     ]
    },
    {
     "name": "stderr",
     "output_type": "stream",
     "text": [
      "100%|██████████| 60675/60675 [00:05<00:00, 11679.96it/s]\n",
      "  0%|          | 2/60675 [00:00<1:05:52, 15.35it/s]"
     ]
    },
    {
     "name": "stdout",
     "output_type": "stream",
     "text": [
      "get exon info\n"
     ]
    },
    {
     "name": "stderr",
     "output_type": "stream",
     "text": [
      "100%|██████████| 60675/60675 [02:41<00:00, 376.85it/s] \n",
      "0it [00:00, ?it/s]"
     ]
    },
    {
     "name": "stdout",
     "output_type": "stream",
     "text": [
      "collecting sequence by chromosome\n"
     ]
    },
    {
     "name": "stderr",
     "output_type": "stream",
     "text": [
      "194it [00:54,  3.57it/s]\n"
     ]
    }
   ],
   "source": [
    "train_chromosome = ['2','4','6','8','10','11','12','13','14','15','16','17','18','19','20','21','22','X','Y']\n",
    "test_chromosome = ['1','3','5','7','9']\n",
    "chromosomes = train_chromosome + test_chromosome\n",
    "# chromosomes = [\"Y\"]\n",
    "chromosomes.sort(reverse=True)\n",
    "\n",
    "ds = SequencerSpliceJunction(\n",
    "    path_annotations = path_db, \n",
    "    path_fasta = path_fa, \n",
    "    chromosomes = chromosomes,\n",
    "    len_samples = 60,\n",
    "    k  = 10, # samples per exon (negative) / splice-junction (positive)\n",
    ")"
   ]
  },
  {
   "cell_type": "markdown",
   "id": "c6edc698-4eb1-4c72-a3ba-de588aacbb34",
   "metadata": {
    "tags": []
   },
   "source": [
    "## Exon Info: for selected chromosomes"
   ]
  },
  {
   "cell_type": "code",
   "execution_count": 4,
   "id": "fa9fef36-71f3-4bac-b546-9d865042a2d0",
   "metadata": {
    "tags": []
   },
   "outputs": [
    {
     "data": {
      "text/html": [
       "<div>\n",
       "<style scoped>\n",
       "    .dataframe tbody tr th:only-of-type {\n",
       "        vertical-align: middle;\n",
       "    }\n",
       "\n",
       "    .dataframe tbody tr th {\n",
       "        vertical-align: top;\n",
       "    }\n",
       "\n",
       "    .dataframe thead th {\n",
       "        text-align: right;\n",
       "    }\n",
       "</style>\n",
       "<table border=\"1\" class=\"dataframe\">\n",
       "  <thead>\n",
       "    <tr style=\"text-align: right;\">\n",
       "      <th></th>\n",
       "      <th>id_exoninfo</th>\n",
       "      <th>chromosome</th>\n",
       "      <th>gene_id</th>\n",
       "      <th>transcript_id</th>\n",
       "      <th>exon_id</th>\n",
       "      <th>exon_number</th>\n",
       "      <th>acceptor_idx</th>\n",
       "      <th>donor_idx</th>\n",
       "    </tr>\n",
       "  </thead>\n",
       "  <tbody>\n",
       "    <tr>\n",
       "      <th>0</th>\n",
       "      <td>1</td>\n",
       "      <td>1</td>\n",
       "      <td>ENSG00000223972</td>\n",
       "      <td>ENST00000456328</td>\n",
       "      <td>ENSE00002234944</td>\n",
       "      <td>1</td>\n",
       "      <td>11868</td>\n",
       "      <td>12226</td>\n",
       "    </tr>\n",
       "    <tr>\n",
       "      <th>1</th>\n",
       "      <td>2</td>\n",
       "      <td>1</td>\n",
       "      <td>ENSG00000223972</td>\n",
       "      <td>ENST00000450305</td>\n",
       "      <td>ENSE00001948541</td>\n",
       "      <td>1</td>\n",
       "      <td>12009</td>\n",
       "      <td>12056</td>\n",
       "    </tr>\n",
       "    <tr>\n",
       "      <th>2</th>\n",
       "      <td>3</td>\n",
       "      <td>1</td>\n",
       "      <td>ENSG00000223972</td>\n",
       "      <td>ENST00000450305</td>\n",
       "      <td>ENSE00001671638</td>\n",
       "      <td>2</td>\n",
       "      <td>12178</td>\n",
       "      <td>12226</td>\n",
       "    </tr>\n",
       "    <tr>\n",
       "      <th>3</th>\n",
       "      <td>4</td>\n",
       "      <td>1</td>\n",
       "      <td>ENSG00000223972</td>\n",
       "      <td>ENST00000456328</td>\n",
       "      <td>ENSE00003582793</td>\n",
       "      <td>2</td>\n",
       "      <td>12612</td>\n",
       "      <td>12720</td>\n",
       "    </tr>\n",
       "    <tr>\n",
       "      <th>4</th>\n",
       "      <td>5</td>\n",
       "      <td>1</td>\n",
       "      <td>ENSG00000223972</td>\n",
       "      <td>ENST00000450305</td>\n",
       "      <td>ENSE00001758273</td>\n",
       "      <td>3</td>\n",
       "      <td>12612</td>\n",
       "      <td>12696</td>\n",
       "    </tr>\n",
       "  </tbody>\n",
       "</table>\n",
       "</div>"
      ],
      "text/plain": [
       "   id_exoninfo chromosome          gene_id    transcript_id          exon_id  \\\n",
       "0            1          1  ENSG00000223972  ENST00000456328  ENSE00002234944   \n",
       "1            2          1  ENSG00000223972  ENST00000450305  ENSE00001948541   \n",
       "2            3          1  ENSG00000223972  ENST00000450305  ENSE00001671638   \n",
       "3            4          1  ENSG00000223972  ENST00000456328  ENSE00003582793   \n",
       "4            5          1  ENSG00000223972  ENST00000450305  ENSE00001758273   \n",
       "\n",
       "   exon_number  acceptor_idx  donor_idx  \n",
       "0            1         11868      12226  \n",
       "1            1         12009      12056  \n",
       "2            2         12178      12226  \n",
       "3            2         12612      12720  \n",
       "4            3         12612      12696  "
      ]
     },
     "execution_count": 4,
     "metadata": {},
     "output_type": "execute_result"
    }
   ],
   "source": [
    "df_exon = pd.DataFrame(ds.exon_info)\n",
    "df_exon.head()"
   ]
  },
  {
   "cell_type": "code",
   "execution_count": 5,
   "id": "806ec7c5-fc5d-42e6-a487-544c5f8da78f",
   "metadata": {
    "tags": []
   },
   "outputs": [
    {
     "data": {
      "text/plain": [
       "(1428974, 8)"
      ]
     },
     "execution_count": 5,
     "metadata": {},
     "output_type": "execute_result"
    }
   ],
   "source": [
    "df_exon.shape"
   ]
  },
  {
   "cell_type": "code",
   "execution_count": 6,
   "id": "7c246124-e9b5-49ee-a086-896de40b6b84",
   "metadata": {
    "tags": []
   },
   "outputs": [],
   "source": [
    "import matplotlib.pyplot as plt"
   ]
  },
  {
   "cell_type": "code",
   "execution_count": 7,
   "id": "89affdec-2f44-4e4b-8fc9-2d4a39ee4146",
   "metadata": {
    "tags": []
   },
   "outputs": [
    {
     "data": {
      "image/png": "[encoded data removed]",
      "text/plain": [
       "<Figure size 432x288 with 1 Axes>"
      ]
     },
     "metadata": {
      "needs_background": "light"
     },
     "output_type": "display_data"
    }
   ],
   "source": [
    "df_exon[\"transcript_id\"].value_counts().plot.hist(bins=50, title=\"Histogram: transcripts per number of exons\")\n",
    "plt.show()"
   ]
  },
  {
   "cell_type": "code",
   "execution_count": 8,
   "id": "96cbe6ca-fbc4-4de8-8b6b-f29fe12161fc",
   "metadata": {
    "tags": []
   },
   "outputs": [
    {
     "data": {
      "text/html": [
       "<div>\n",
       "<style scoped>\n",
       "    .dataframe tbody tr th:only-of-type {\n",
       "        vertical-align: middle;\n",
       "    }\n",
       "\n",
       "    .dataframe tbody tr th {\n",
       "        vertical-align: top;\n",
       "    }\n",
       "\n",
       "    .dataframe thead th {\n",
       "        text-align: right;\n",
       "    }\n",
       "</style>\n",
       "<table border=\"1\" class=\"dataframe\">\n",
       "  <thead>\n",
       "    <tr style=\"text-align: right;\">\n",
       "      <th></th>\n",
       "      <th>id_exoninfo</th>\n",
       "      <th>chromosome</th>\n",
       "      <th>gene_id</th>\n",
       "      <th>transcript_id</th>\n",
       "      <th>exon_id</th>\n",
       "      <th>exon_number</th>\n",
       "      <th>acceptor_idx</th>\n",
       "      <th>donor_idx</th>\n",
       "    </tr>\n",
       "  </thead>\n",
       "  <tbody>\n",
       "    <tr>\n",
       "      <th>0</th>\n",
       "      <td>1</td>\n",
       "      <td>1</td>\n",
       "      <td>ENSG00000223972</td>\n",
       "      <td>ENST00000456328</td>\n",
       "      <td>ENSE00002234944</td>\n",
       "      <td>1</td>\n",
       "      <td>11868</td>\n",
       "      <td>12226</td>\n",
       "    </tr>\n",
       "    <tr>\n",
       "      <th>1</th>\n",
       "      <td>2</td>\n",
       "      <td>1</td>\n",
       "      <td>ENSG00000223972</td>\n",
       "      <td>ENST00000450305</td>\n",
       "      <td>ENSE00001948541</td>\n",
       "      <td>1</td>\n",
       "      <td>12009</td>\n",
       "      <td>12056</td>\n",
       "    </tr>\n",
       "    <tr>\n",
       "      <th>2</th>\n",
       "      <td>3</td>\n",
       "      <td>1</td>\n",
       "      <td>ENSG00000223972</td>\n",
       "      <td>ENST00000450305</td>\n",
       "      <td>ENSE00001671638</td>\n",
       "      <td>2</td>\n",
       "      <td>12178</td>\n",
       "      <td>12226</td>\n",
       "    </tr>\n",
       "    <tr>\n",
       "      <th>3</th>\n",
       "      <td>4</td>\n",
       "      <td>1</td>\n",
       "      <td>ENSG00000223972</td>\n",
       "      <td>ENST00000456328</td>\n",
       "      <td>ENSE00003582793</td>\n",
       "      <td>2</td>\n",
       "      <td>12612</td>\n",
       "      <td>12720</td>\n",
       "    </tr>\n",
       "    <tr>\n",
       "      <th>4</th>\n",
       "      <td>5</td>\n",
       "      <td>1</td>\n",
       "      <td>ENSG00000223972</td>\n",
       "      <td>ENST00000450305</td>\n",
       "      <td>ENSE00001758273</td>\n",
       "      <td>3</td>\n",
       "      <td>12612</td>\n",
       "      <td>12696</td>\n",
       "    </tr>\n",
       "  </tbody>\n",
       "</table>\n",
       "</div>"
      ],
      "text/plain": [
       "   id_exoninfo chromosome          gene_id    transcript_id          exon_id  \\\n",
       "0            1          1  ENSG00000223972  ENST00000456328  ENSE00002234944   \n",
       "1            2          1  ENSG00000223972  ENST00000450305  ENSE00001948541   \n",
       "2            3          1  ENSG00000223972  ENST00000450305  ENSE00001671638   \n",
       "3            4          1  ENSG00000223972  ENST00000456328  ENSE00003582793   \n",
       "4            5          1  ENSG00000223972  ENST00000450305  ENSE00001758273   \n",
       "\n",
       "   exon_number  acceptor_idx  donor_idx  \n",
       "0            1         11868      12226  \n",
       "1            1         12009      12056  \n",
       "2            2         12178      12226  \n",
       "3            2         12612      12720  \n",
       "4            3         12612      12696  "
      ]
     },
     "execution_count": 8,
     "metadata": {},
     "output_type": "execute_result"
    }
   ],
   "source": [
    "df_exon.head()"
   ]
  },
  {
   "cell_type": "markdown",
   "id": "fc5dd055-0ea0-453a-858c-61401b48b550",
   "metadata": {
    "tags": []
   },
   "source": [
    "## Length of exons\n",
    "- Most of the exons (75%) has length lower than 200. \n",
    "- Negative samples depends on the length of the exons. \n",
    "- Positive samples depends on the length of two exons. "
   ]
  },
  {
   "cell_type": "code",
   "execution_count": 9,
   "id": "d34da9eb-c890-4c2f-aa76-ea0f8cdb8457",
   "metadata": {
    "tags": []
   },
   "outputs": [],
   "source": [
    "df_exon[\"len_exon\"] = df_exon.apply(lambda r: r[\"donor_idx\"]-r[\"acceptor_idx\"], axis=1)"
   ]
  },
  {
   "cell_type": "code",
   "execution_count": 10,
   "id": "8b2f7e80-4e24-4287-91b2-d16ce2c53106",
   "metadata": {
    "tags": []
   },
   "outputs": [
    {
     "data": {
      "text/plain": [
       "count    1.428974e+06\n",
       "mean     2.610387e+02\n",
       "std      6.692323e+02\n",
       "min      0.000000e+00\n",
       "25%      8.700000e+01\n",
       "50%      1.290000e+02\n",
       "75%      1.990000e+02\n",
       "max      3.472990e+05\n",
       "Name: len_exon, dtype: float64"
      ]
     },
     "execution_count": 10,
     "metadata": {},
     "output_type": "execute_result"
    }
   ],
   "source": [
    "df_exon[\"len_exon\"].describe()"
   ]
  },
  {
   "cell_type": "code",
   "execution_count": 11,
   "id": "af1fee61-1b64-4396-803e-a52d478fd874",
   "metadata": {
    "tags": []
   },
   "outputs": [
    {
     "data": {
      "text/plain": [
       "<AxesSubplot:title={'center':'Lenght of exons'}, ylabel='Frequency'>"
      ]
     },
     "execution_count": 11,
     "metadata": {},
     "output_type": "execute_result"
    },
    {
     "data": {
      "image/png": "[encoded data removed]",
      "text/plain": [
       "<Figure size 432x288 with 1 Axes>"
      ]
     },
     "metadata": {
      "needs_background": "light"
     },
     "output_type": "display_data"
    }
   ],
   "source": [
    "df_exon.len_exon[df_exon.len_exon<1200].plot.hist(bins=100, title=\"Lenght of exons\")"
   ]
  },
  {
   "cell_type": "code",
   "execution_count": 12,
   "id": "e45cf82e-72b1-429c-bbd8-f708d3b7ff03",
   "metadata": {
    "tags": []
   },
   "outputs": [
    {
     "data": {
      "text/html": [
       "<div>\n",
       "<style scoped>\n",
       "    .dataframe tbody tr th:only-of-type {\n",
       "        vertical-align: middle;\n",
       "    }\n",
       "\n",
       "    .dataframe tbody tr th {\n",
       "        vertical-align: top;\n",
       "    }\n",
       "\n",
       "    .dataframe thead th {\n",
       "        text-align: right;\n",
       "    }\n",
       "</style>\n",
       "<table border=\"1\" class=\"dataframe\">\n",
       "  <thead>\n",
       "    <tr style=\"text-align: right;\">\n",
       "      <th></th>\n",
       "      <th>id_exoninfo</th>\n",
       "      <th>chromosome</th>\n",
       "      <th>gene_id</th>\n",
       "      <th>transcript_id</th>\n",
       "      <th>exon_id</th>\n",
       "      <th>exon_number</th>\n",
       "      <th>acceptor_idx</th>\n",
       "      <th>donor_idx</th>\n",
       "      <th>len_exon</th>\n",
       "    </tr>\n",
       "  </thead>\n",
       "  <tbody>\n",
       "    <tr>\n",
       "      <th>0</th>\n",
       "      <td>1</td>\n",
       "      <td>1</td>\n",
       "      <td>ENSG00000223972</td>\n",
       "      <td>ENST00000456328</td>\n",
       "      <td>ENSE00002234944</td>\n",
       "      <td>1</td>\n",
       "      <td>11868</td>\n",
       "      <td>12226</td>\n",
       "      <td>358</td>\n",
       "    </tr>\n",
       "    <tr>\n",
       "      <th>1</th>\n",
       "      <td>2</td>\n",
       "      <td>1</td>\n",
       "      <td>ENSG00000223972</td>\n",
       "      <td>ENST00000450305</td>\n",
       "      <td>ENSE00001948541</td>\n",
       "      <td>1</td>\n",
       "      <td>12009</td>\n",
       "      <td>12056</td>\n",
       "      <td>47</td>\n",
       "    </tr>\n",
       "    <tr>\n",
       "      <th>2</th>\n",
       "      <td>3</td>\n",
       "      <td>1</td>\n",
       "      <td>ENSG00000223972</td>\n",
       "      <td>ENST00000450305</td>\n",
       "      <td>ENSE00001671638</td>\n",
       "      <td>2</td>\n",
       "      <td>12178</td>\n",
       "      <td>12226</td>\n",
       "      <td>48</td>\n",
       "    </tr>\n",
       "    <tr>\n",
       "      <th>3</th>\n",
       "      <td>4</td>\n",
       "      <td>1</td>\n",
       "      <td>ENSG00000223972</td>\n",
       "      <td>ENST00000456328</td>\n",
       "      <td>ENSE00003582793</td>\n",
       "      <td>2</td>\n",
       "      <td>12612</td>\n",
       "      <td>12720</td>\n",
       "      <td>108</td>\n",
       "    </tr>\n",
       "    <tr>\n",
       "      <th>4</th>\n",
       "      <td>5</td>\n",
       "      <td>1</td>\n",
       "      <td>ENSG00000223972</td>\n",
       "      <td>ENST00000450305</td>\n",
       "      <td>ENSE00001758273</td>\n",
       "      <td>3</td>\n",
       "      <td>12612</td>\n",
       "      <td>12696</td>\n",
       "      <td>84</td>\n",
       "    </tr>\n",
       "  </tbody>\n",
       "</table>\n",
       "</div>"
      ],
      "text/plain": [
       "   id_exoninfo chromosome          gene_id    transcript_id          exon_id  \\\n",
       "0            1          1  ENSG00000223972  ENST00000456328  ENSE00002234944   \n",
       "1            2          1  ENSG00000223972  ENST00000450305  ENSE00001948541   \n",
       "2            3          1  ENSG00000223972  ENST00000450305  ENSE00001671638   \n",
       "3            4          1  ENSG00000223972  ENST00000456328  ENSE00003582793   \n",
       "4            5          1  ENSG00000223972  ENST00000450305  ENSE00001758273   \n",
       "\n",
       "   exon_number  acceptor_idx  donor_idx  len_exon  \n",
       "0            1         11868      12226       358  \n",
       "1            1         12009      12056        47  \n",
       "2            2         12178      12226        48  \n",
       "3            2         12612      12720       108  \n",
       "4            3         12612      12696        84  "
      ]
     },
     "execution_count": 12,
     "metadata": {},
     "output_type": "execute_result"
    }
   ],
   "source": [
    "df_exon.head()"
   ]
  },
  {
   "cell_type": "markdown",
   "id": "8d0b1fd7-e45d-48d4-b7d8-bd7510ad3e87",
   "metadata": {},
   "source": [
    "## Save exoninfo"
   ]
  },
  {
   "cell_type": "code",
   "execution_count": 13,
   "id": "34991bb7-c365-4808-a406-7500b72f849a",
   "metadata": {},
   "outputs": [],
   "source": [
    "df_exon.to_csv(\"data/exoninfo.csv\")"
   ]
  },
  {
   "cell_type": "markdown",
   "id": "f57a46c8-de02-4d35-a0e5-6f857666b093",
   "metadata": {
    "tags": []
   },
   "source": [
    "___ "
   ]
  },
  {
   "cell_type": "markdown",
   "id": "92a22786-918f-471c-8d90-407ffd3af5fb",
   "metadata": {},
   "source": [
    "# Sampling of sequences\n",
    "For each transcript in `.exon_info`:\n",
    "1. If it contains 2 or more exons, go to step 2.\n",
    "2. For each exon $e$ in the transcript sample negative cases (I discarded the transcripts with one exon)\n",
    "3. For each consecutive pair of exons $e_i, e_{i+1}$ sample positive cases"
   ]
  },
  {
   "cell_type": "markdown",
   "id": "3451a931-0b2c-488c-8ff6-597a2dc16fd7",
   "metadata": {},
   "source": [
    "### Positive Samples"
   ]
  },
  {
   "cell_type": "code",
   "execution_count": null,
   "id": "50ace37e-b3d8-4a59-a114-9c5cf5a5e12f",
   "metadata": {},
   "outputs": [
    {
     "name": "stderr",
     "output_type": "stream",
     "text": [
      "  0%|          | 0/816 [00:00<?, ?it/s]"
     ]
    },
    {
     "name": "stdout",
     "output_type": "stream",
     "text": [
      "Y\n",
      "Generating positive samples\n"
     ]
    },
    {
     "name": "stderr",
     "output_type": "stream",
     "text": [
      "100%|██████████| 816/816 [03:34<00:00,  3.80it/s]\n",
      "  0%|          | 0/7169 [00:00<?, ?it/s]"
     ]
    },
    {
     "name": "stdout",
     "output_type": "stream",
     "text": [
      "X\n",
      "Generating positive samples\n"
     ]
    },
    {
     "name": "stderr",
     "output_type": "stream",
     "text": [
      "  7%|▋         | 479/7169 [02:01<27:53,  4.00it/s]"
     ]
    }
   ],
   "source": [
    "for chromosome in chromosomes: \n",
    "    print(chromosome)\n",
    "    ds.generate_positive_samples(chromosome=chromosome, save=True)"
   ]
  },
  {
   "cell_type": "code",
   "execution_count": null,
   "id": "666e12d8-bba8-4614-99c5-fa6952d358ec",
   "metadata": {},
   "outputs": [],
   "source": [
    "len(ds.pos_samples), ds.counter_pos"
   ]
  },
  {
   "cell_type": "markdown",
   "id": "8a6c7c7c-42d7-4457-bb64-6f3fba3c7c79",
   "metadata": {},
   "source": [
    "### take a look to positive samples"
   ]
  },
  {
   "cell_type": "code",
   "execution_count": null,
   "id": "29742716-762a-4364-b4ac-bf13a4f4fffe",
   "metadata": {},
   "outputs": [],
   "source": [
    "sample = ds.pos_samples[1]\n",
    "sample"
   ]
  },
  {
   "cell_type": "code",
   "execution_count": null,
   "id": "a7ada08f-bb83-4162-8b52-fd75f6a676ef",
   "metadata": {},
   "outputs": [],
   "source": [
    "list(filter(lambda info: info.id_exoninfo in [sample.id_exoninfo_acceptor, sample.id_exoninfo_donor] , ds.exon_info))"
   ]
  },
  {
   "cell_type": "code",
   "execution_count": null,
   "id": "e391f04d-6426-46f5-9057-f5d2444dd08b",
   "metadata": {},
   "outputs": [],
   "source": []
  },
  {
   "cell_type": "markdown",
   "id": "3da350f3-9197-4c86-ac1d-75c046cdbaf6",
   "metadata": {},
   "source": [
    "### Negative Samples"
   ]
  },
  {
   "cell_type": "code",
   "execution_count": null,
   "id": "85705809-64ae-4734-a674-4e39805483e3",
   "metadata": {},
   "outputs": [],
   "source": [
    "for chromosome in chromosomes:\n",
    "    print(chromosome)\n",
    "    ds.generate_negative_samples(chromosome=chromosome, allow_empty=True, save=False)"
   ]
  },
  {
   "cell_type": "code",
   "execution_count": null,
   "id": "0d88c910-e41b-49ee-b219-d415ded21369",
   "metadata": {},
   "outputs": [],
   "source": [
    "len(ds.neg_samples)"
   ]
  },
  {
   "cell_type": "markdown",
   "id": "0041c74e-1208-4130-a43e-948549d6c849",
   "metadata": {},
   "source": [
    "### take a look to negative samples"
   ]
  },
  {
   "cell_type": "code",
   "execution_count": null,
   "id": "73e3b75c-a8e4-4c65-98e2-7165dfc69326",
   "metadata": {},
   "outputs": [],
   "source": [
    "sample = ds.neg_samples[20]\n",
    "sample"
   ]
  },
  {
   "cell_type": "code",
   "execution_count": null,
   "id": "38ec3c23-5022-4bf7-bde7-e0b63e29d48f",
   "metadata": {},
   "outputs": [],
   "source": [
    "list(filter(lambda info: info.id_exoninfo == sample.id_exoninfo , ds.exon_info))"
   ]
  },
  {
   "cell_type": "code",
   "execution_count": null,
   "id": "bfb54c7b-e2d8-41fe-8544-d3470f11780c",
   "metadata": {},
   "outputs": [],
   "source": []
  }
 ],
 "metadata": {
  "kernelspec": {
   "display_name": "Python 3",
   "language": "python",
   "name": "python3"
  },
  "language_info": {
   "codemirror_mode": {
    "name": "ipython",
    "version": 3
   },
   "file_extension": ".py",
   "mimetype": "text/x-python",
   "name": "python",
   "nbconvert_exporter": "python",
   "pygments_lexer": "ipython3",
   "version": "3.8.10"
  }
 },
 "nbformat": 4,
 "nbformat_minor": 5
}
