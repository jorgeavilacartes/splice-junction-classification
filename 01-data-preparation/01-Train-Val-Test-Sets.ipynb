{
 "cells": [
  {
   "cell_type": "markdown",
   "id": "d2ce2bc0-8b1f-413f-b766-20808905dbd2",
   "metadata": {},
   "source": [
    "# Split dataset in\n",
    "train, validation and test sets\n",
    "\n",
    "\n",
    "\n",
    "|  | Train |  Val  |  Test |\n",
    "|---|  ---  |  ---  |  ---  |\n",
    "| A |   70  |  15   |   15  |  \n",
    "| B |   80  |  10   |   10  |\n",
    "\n"
   ]
  },
  {
   "cell_type": "code",
   "execution_count": 1,
   "id": "92f7ce0b-b645-4f77-914c-46c2d6701a31",
   "metadata": {},
   "outputs": [],
   "source": [
    "from tqdm.notebook import tqdm_notebook as tqdm\n",
    "from pathlib import Path\n",
    "import pandas as pd \n",
    "tqdm.pandas()"
   ]
  },
  {
   "cell_type": "markdown",
   "id": "b5c86703-5a92-4896-a48a-3c0813b58ae1",
   "metadata": {},
   "source": [
    "## Load data"
   ]
  },
  {
   "cell_type": "code",
   "execution_count": 2,
   "id": "472cd19b-3f26-471d-a48c-1604e7ad5aa2",
   "metadata": {},
   "outputs": [],
   "source": [
    "# Path to labeled sequences\n",
    "PATH_DATA = Path('/home/jorge/AlgoLab/Tezi-Marzi/Tezi-Documentation/Master Thesis-20210607T163207Z-001/Master Thesis/Archive')"
   ]
  },
  {
   "cell_type": "code",
   "execution_count": 3,
   "id": "5dbe590e-05bd-460e-baa6-490f44de2b6f",
   "metadata": {},
   "outputs": [],
   "source": [
    "# Path to save the generated data\n",
    "PATH_SAVE = Path(\"data\")\n",
    "PATH_SAVE.mkdir(exist_ok=True)"
   ]
  },
  {
   "cell_type": "code",
   "execution_count": 4,
   "id": "3766e9a4-00c0-4df1-b969-3caf6364083a",
   "metadata": {},
   "outputs": [
    {
     "data": {
      "text/html": [
       "<div>\n",
       "<style scoped>\n",
       "    .dataframe tbody tr th:only-of-type {\n",
       "        vertical-align: middle;\n",
       "    }\n",
       "\n",
       "    .dataframe tbody tr th {\n",
       "        vertical-align: top;\n",
       "    }\n",
       "\n",
       "    .dataframe thead th {\n",
       "        text-align: right;\n",
       "    }\n",
       "</style>\n",
       "<table border=\"1\" class=\"dataframe\">\n",
       "  <thead>\n",
       "    <tr style=\"text-align: right;\">\n",
       "      <th></th>\n",
       "      <th>Sequences</th>\n",
       "      <th>Splice_Junctions</th>\n",
       "    </tr>\n",
       "  </thead>\n",
       "  <tbody>\n",
       "    <tr>\n",
       "      <th>0</th>\n",
       "      <td>TCTGTCCTGTAAACCAGGACCCAGGTTATGCCTCTGCGAGCAGAGC...</td>\n",
       "      <td>1</td>\n",
       "    </tr>\n",
       "    <tr>\n",
       "      <th>1</th>\n",
       "      <td>TTTTTCTTCCTTCACTCTGAAGCCTGTTTACTTTGTTCTTCTGGCC...</td>\n",
       "      <td>1</td>\n",
       "    </tr>\n",
       "    <tr>\n",
       "      <th>2</th>\n",
       "      <td>TCCCGCCAAATCCGAAGCCTTGCTTCCTCCGGGAAAAGAGTCTTTT...</td>\n",
       "      <td>1</td>\n",
       "    </tr>\n",
       "    <tr>\n",
       "      <th>3</th>\n",
       "      <td>ATAATGATATTACTTGTACATAGAGTATAACTCCAGATTCCTTGGT...</td>\n",
       "      <td>1</td>\n",
       "    </tr>\n",
       "    <tr>\n",
       "      <th>4</th>\n",
       "      <td>TTTTTTTCCCTAATCCATCAAAGACTCCATAGCATAGTCGTTAATA...</td>\n",
       "      <td>0</td>\n",
       "    </tr>\n",
       "  </tbody>\n",
       "</table>\n",
       "</div>"
      ],
      "text/plain": [
       "                                           Sequences  Splice_Junctions\n",
       "0  TCTGTCCTGTAAACCAGGACCCAGGTTATGCCTCTGCGAGCAGAGC...                 1\n",
       "1  TTTTTCTTCCTTCACTCTGAAGCCTGTTTACTTTGTTCTTCTGGCC...                 1\n",
       "2  TCCCGCCAAATCCGAAGCCTTGCTTCCTCCGGGAAAAGAGTCTTTT...                 1\n",
       "3  ATAATGATATTACTTGTACATAGAGTATAACTCCAGATTCCTTGGT...                 1\n",
       "4  TTTTTTTCCCTAATCCATCAAAGACTCCATAGCATAGTCGTTAATA...                 0"
      ]
     },
     "execution_count": 4,
     "metadata": {},
     "output_type": "execute_result"
    }
   ],
   "source": [
    "# Load data\n",
    "data = pd.read_csv(PATH_DATA.joinpath('Sequences_chr1_unique.csv'))\n",
    "data.head()"
   ]
  },
  {
   "cell_type": "code",
   "execution_count": 5,
   "id": "872bd6a7-96a8-41b6-8331-dac882c12606",
   "metadata": {},
   "outputs": [
    {
     "data": {
      "text/html": [
       "<div>\n",
       "<style scoped>\n",
       "    .dataframe tbody tr th:only-of-type {\n",
       "        vertical-align: middle;\n",
       "    }\n",
       "\n",
       "    .dataframe tbody tr th {\n",
       "        vertical-align: top;\n",
       "    }\n",
       "\n",
       "    .dataframe thead th {\n",
       "        text-align: right;\n",
       "    }\n",
       "</style>\n",
       "<table border=\"1\" class=\"dataframe\">\n",
       "  <thead>\n",
       "    <tr style=\"text-align: right;\">\n",
       "      <th></th>\n",
       "      <th>Splice_Junctions</th>\n",
       "    </tr>\n",
       "  </thead>\n",
       "  <tbody>\n",
       "    <tr>\n",
       "      <th>count</th>\n",
       "      <td>72168.000000</td>\n",
       "    </tr>\n",
       "    <tr>\n",
       "      <th>mean</th>\n",
       "      <td>0.500000</td>\n",
       "    </tr>\n",
       "    <tr>\n",
       "      <th>std</th>\n",
       "      <td>0.500003</td>\n",
       "    </tr>\n",
       "    <tr>\n",
       "      <th>min</th>\n",
       "      <td>0.000000</td>\n",
       "    </tr>\n",
       "    <tr>\n",
       "      <th>25%</th>\n",
       "      <td>0.000000</td>\n",
       "    </tr>\n",
       "    <tr>\n",
       "      <th>50%</th>\n",
       "      <td>0.500000</td>\n",
       "    </tr>\n",
       "    <tr>\n",
       "      <th>75%</th>\n",
       "      <td>1.000000</td>\n",
       "    </tr>\n",
       "    <tr>\n",
       "      <th>max</th>\n",
       "      <td>1.000000</td>\n",
       "    </tr>\n",
       "  </tbody>\n",
       "</table>\n",
       "</div>"
      ],
      "text/plain": [
       "       Splice_Junctions\n",
       "count      72168.000000\n",
       "mean           0.500000\n",
       "std            0.500003\n",
       "min            0.000000\n",
       "25%            0.000000\n",
       "50%            0.500000\n",
       "75%            1.000000\n",
       "max            1.000000"
      ]
     },
     "execution_count": 5,
     "metadata": {},
     "output_type": "execute_result"
    }
   ],
   "source": [
    "data.describe()"
   ]
  },
  {
   "cell_type": "code",
   "execution_count": 6,
   "id": "324cde8a-4c22-492f-b995-8ea69221e168",
   "metadata": {},
   "outputs": [
    {
     "name": "stdout",
     "output_type": "stream",
     "text": [
      "<class 'pandas.core.frame.DataFrame'>\n",
      "RangeIndex: 72168 entries, 0 to 72167\n",
      "Data columns (total 2 columns):\n",
      " #   Column            Non-Null Count  Dtype \n",
      "---  ------            --------------  ----- \n",
      " 0   Sequences         72168 non-null  object\n",
      " 1   Splice_Junctions  72168 non-null  int64 \n",
      "dtypes: int64(1), object(1)\n",
      "memory usage: 1.1+ MB\n"
     ]
    }
   ],
   "source": [
    "data.info()"
   ]
  },
  {
   "cell_type": "markdown",
   "id": "18f3a438-3a2e-4588-9294-7e9e68b87757",
   "metadata": {},
   "source": [
    "## Summary on data"
   ]
  },
  {
   "cell_type": "code",
   "execution_count": 7,
   "id": "fd30be30-e0ec-4453-8817-ae8e7f157721",
   "metadata": {},
   "outputs": [],
   "source": [
    "from collections import Counter"
   ]
  },
  {
   "cell_type": "code",
   "execution_count": 8,
   "id": "1bb6c773-c8c8-44c4-975c-c65a91b633d2",
   "metadata": {},
   "outputs": [
    {
     "data": {
      "text/plain": [
       "Counter({1: 36084, 0: 36084})"
      ]
     },
     "execution_count": 8,
     "metadata": {},
     "output_type": "execute_result"
    }
   ],
   "source": [
    "# Representativity of each lable\n",
    "count_labels = Counter(data.Splice_Junctions.tolist())\n",
    "count_labels"
   ]
  },
  {
   "cell_type": "code",
   "execution_count": 9,
   "id": "f51ea6d6-2781-4d12-8054-62f887fcab70",
   "metadata": {},
   "outputs": [
    {
     "data": {
      "application/vnd.jupyter.widget-view+json": {
       "model_id": "5c9cfb16d9b04566885d236fc9afa1fc",
       "version_major": 2,
       "version_minor": 0
      },
      "text/plain": [
       "  0%|          | 0/72168 [00:00<?, ?it/s]"
      ]
     },
     "metadata": {},
     "output_type": "display_data"
    },
    {
     "data": {
      "text/plain": [
       "<AxesSubplot:>"
      ]
     },
     "execution_count": 9,
     "metadata": {},
     "output_type": "execute_result"
    },
    {
     "data": {
      "image/png": "[encoded data removed]",
      "text/plain": [
       "<Figure size 432x288 with 1 Axes>"
      ]
     },
     "metadata": {
      "needs_background": "light"
     },
     "output_type": "display_data"
    }
   ],
   "source": [
    "# len of each sequence\n",
    "import matplotlib.pyplot as plt\n",
    "\n",
    "# Compute the len of each sequence in the dataset\n",
    "len_sequences = data.Sequences.progress_apply(len)\n",
    "len_sequences.hist(bins=100)"
   ]
  },
  {
   "cell_type": "markdown",
   "id": "7622351d-0b26-4463-9e73-88a1134deb10",
   "metadata": {},
   "source": [
    "## Select `Train`, `Val` and `Test`sets"
   ]
  },
  {
   "cell_type": "code",
   "execution_count": 10,
   "id": "936055bb-b8ee-422a-bfc9-ff7aed761304",
   "metadata": {},
   "outputs": [],
   "source": [
    "from src import DataSelector\n",
    "\n",
    "# the id for each sequence will be define by the row in the csv file\n",
    "id_labels = data.index.tolist()\n",
    "\n",
    "# labels are in the column 'Splice_Junctions' \n",
    "labels = data.Splice_Junctions.tolist()"
   ]
  },
  {
   "cell_type": "code",
   "execution_count": 11,
   "id": "29d5b269-a10f-42e5-8dba-d79bfb6ea383",
   "metadata": {},
   "outputs": [],
   "source": [
    "# Instantiate DataSelector with list of labels and id for each sequence \n",
    "ds = DataSelector(\n",
    "    id_labels,\n",
    "    labels   , # list with labels \n",
    "    seed = 42, # reproducibility of random selection\n",
    ")"
   ]
  },
  {
   "cell_type": "code",
   "execution_count": 12,
   "id": "57284c65-2c55-4a72-81bd-2c132afe9f34",
   "metadata": {},
   "outputs": [
    {
     "name": "stdout",
     "output_type": "stream",
     "text": [
      "Generating train, validation and test sets...\n",
      "Datasets successfully generated. See 'datasets' attribute.\n",
      "{'train': {1: 25373, 0: 25143}, 'val': {1: 5385, 0: 5441}, 'test': {0: 5500, 1: 5326}}\n"
     ]
    }
   ],
   "source": [
    "ds(train_size=0.7)"
   ]
  },
  {
   "cell_type": "code",
   "execution_count": 13,
   "id": "f5853635-0ede-4a91-aa02-cdf7238b63e5",
   "metadata": {
    "tags": []
   },
   "outputs": [],
   "source": [
    "import json\n",
    "\n",
    "with open(PATH_SAVE.joinpath(\"datasets.json\"), \"w\", encoding=\"utf8\") as fp: \n",
    "    json.dump(ds.datasets, fp, ensure_ascii=False, indent=4)"
   ]
  }
 ],
 "metadata": {
  "kernelspec": {
   "display_name": "Python 3",
   "language": "python",
   "name": "python3"
  },
  "language_info": {
   "codemirror_mode": {
    "name": "ipython",
    "version": 3
   },
   "file_extension": ".py",
   "mimetype": "text/x-python",
   "name": "python",
   "nbconvert_exporter": "python",
   "pygments_lexer": "ipython3",
   "version": "3.8.10"
  }
 },
 "nbformat": 4,
 "nbformat_minor": 5
}
